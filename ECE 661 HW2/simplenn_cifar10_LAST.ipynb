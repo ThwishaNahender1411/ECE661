{
  "cells": [
    {
      "cell_type": "markdown",
      "metadata": {
        "id": "CFNVmUIVCaoU"
      },
      "source": [
        "# Training SimpleNN on CIFAR-10\n",
        "In this project, you will use the SimpleNN model to perform image classification on CIFAR-10. CIFAR-10 orginally contains 60K images from 10 categories. We split it into 45K/5K/10K images to serve as train/valiation/test set. We only release the ground-truth labels of training/validation dataset to you."
      ]
    },
    {
      "cell_type": "code",
      "execution_count": 22,
      "metadata": {
        "id": "xlS24g5FCaob"
      },
      "outputs": [],
      "source": [
        "# import necessary dependencies\n",
        "import argparse\n",
        "import os, sys\n",
        "import time\n",
        "import datetime\n",
        "from tqdm import tqdm_notebook as tqdm\n",
        "\n",
        "import torch\n",
        "import torch.nn as nn\n",
        "import torch.nn.functional as F"
      ]
    },
    {
      "cell_type": "code",
      "execution_count": 23,
      "metadata": {
        "id": "uVZjzFnsCaoe"
      },
      "outputs": [],
      "source": [
        "# define the SimpleNN mode;\n",
        "class SimpleNN(nn.Module):\n",
        "    def __init__(self):\n",
        "        super(SimpleNN, self).__init__()\n",
        "        self.conv1 = nn.Conv2d(3, 8, 5)\n",
        "        self.conv2 = nn.Conv2d(8, 16, 3)\n",
        "        self.fc1   = nn.Linear(16*6*6, 120)\n",
        "        self.fc2   = nn.Linear(120, 84)\n",
        "        self.fc3   = nn.Linear(84, 10)\n",
        "\n",
        "    def forward(self, x):\n",
        "        out = F.relu(self.conv1(x))\n",
        "        out = F.max_pool2d(out, 2)\n",
        "        out = F.relu(self.conv2(out))\n",
        "        out = F.max_pool2d(out, 2)\n",
        "        out = out.view(out.size(0), -1)\n",
        "        out = F.relu(self.fc1(out))\n",
        "        out = F.relu(self.fc2(out))\n",
        "        out = self.fc3(out)\n",
        "        return out"
      ]
    },
    {
      "cell_type": "markdown",
      "metadata": {
        "id": "y8TfATunCaof"
      },
      "source": [
        "\n",
        "Here is a sanity check to verify the implementation of SimpleNN.\n",
        "You need to:\n",
        "1. Write down your code.\n",
        "2. **In the PDF report**, give a brief description on how the code helps you know that SimpleNN is implemented correctly."
      ]
    },
    {
      "cell_type": "code",
      "execution_count": 24,
      "metadata": {
        "colab": {
          "base_uri": "https://localhost:8080/"
        },
        "id": "2SFpzL1FCaog",
        "outputId": "eb0dda5e-ab2d-4f33-966a-3d8adbe17e07"
      },
      "outputs": [
        {
          "output_type": "stream",
          "name": "stdout",
          "text": [
            "Output shape check passed!\n",
            "Parameter count check passed!\n"
          ]
        }
      ],
      "source": [
        "#############################################\n",
        "# your code here\n",
        "# sanity check for the correctness of SimpleNN\n",
        "dummy_input = torch.randn(1, 3, 32, 32)\n",
        "model = SimpleNN()\n",
        "output = model(dummy_input)\n",
        "\n",
        "\n",
        "expected_output_shape = (1, 10)\n",
        "if output.shape == expected_output_shape:\n",
        "    print(\"Output shape check passed!\")\n",
        "else:\n",
        "    print(\"Output shape check failed.\")\n",
        "\n",
        "def count_parameters(model):\n",
        "    return sum(p.numel() for p in model.parameters())\n",
        "\n",
        "total_parameters = count_parameters(model)\n",
        "\n",
        "expected_parameters = (3 * 8 * 5 * 5 + 8) + (8 * 16 * 3 * 3 + 16) + (16 * 6 * 6 * 120 + 120) + (120 * 84 + 84) + (84 * 10 + 10)\n",
        "\n",
        "if total_parameters == expected_parameters:\n",
        "    print(\"Parameter count check passed!\")\n",
        "else:\n",
        "    print(\"Parameter count check failed.\")\n",
        "\n",
        "#############################################"
      ]
    },
    {
      "cell_type": "markdown",
      "metadata": {
        "id": "kSmUDRc0Caoi"
      },
      "source": [
        "## Step 1: Set up preprocessing functions\n",
        "Preprocessing is very important as discussed in the lecture.\n",
        "You will need to write preprocessing functions with the help of *torchvision.transforms* in this step.\n",
        "You can find helpful tutorial/API at [here](https://pytorch.org/vision/stable/transforms.html)."
      ]
    },
    {
      "cell_type": "markdown",
      "metadata": {
        "id": "K0xnzZZaCaol"
      },
      "source": [
        "### Question (a)\n",
        "For the question, you need to:\n",
        "1. Complete the preprocessing code below.\n",
        "2. **In the PDF report**, briefly describe what preprocessing operations you used and what are the purposes of them.\n",
        "\n",
        "Hint:\n",
        "1. Only two operations are necessary to complete the basic preprocessing here.\n",
        "2. The raw input read from the dataset will be PIL images.\n",
        "3. Data augmentation operations are not mendatory, but feel free to incorporate them if you want.\n",
        "4. Reference value for mean/std of CIFAR-10 images (assuming the pixel values are within [0,1]): mean (RGB-format): (0.4914, 0.4822, 0.4465), std (RGB-format): (0.2023, 0.1994, 0.2010)"
      ]
    },
    {
      "cell_type": "code",
      "execution_count": 25,
      "metadata": {
        "id": "DRuTkifWCaom"
      },
      "outputs": [],
      "source": [
        "# useful libraries\n",
        "import torchvision\n",
        "import torchvision.transforms as transforms\n",
        "\n",
        "#############################################\n",
        "# your code here\n",
        "mean = (0.4914, 0.4822, 0.4465)\n",
        "std = (0.2023, 0.1994, 0.2010)\n",
        "# specify preprocessing function\n",
        "\n",
        "transform_train = transforms.Compose([\n",
        "    transforms.ToTensor(),\n",
        "    transforms.Normalize(mean, std)\n",
        "])\n",
        "\n",
        "transform_val = transforms.Compose([\n",
        "    transforms.ToTensor(),\n",
        "    transforms.Normalize(mean, std)\n",
        "])\n",
        "#############################################"
      ]
    },
    {
      "cell_type": "markdown",
      "source": [
        "When the data features are on different scales it becomes difficult to get to the optimal solution. We use normalisation to bring all the features to a similar scale for easier training. Normalisation is done by subtracting the mean from each feature  which ensures that the data is around zero, this removes any bias that might be there, dividing by the standard deviation scales the data and ensures that the data has a unit variance."
      ],
      "metadata": {
        "id": "PyYLgKvUfN9_"
      }
    },
    {
      "cell_type": "markdown",
      "metadata": {
        "id": "wZUe844jCaom"
      },
      "source": [
        "## Step 2: Set up dataset and dataloader\n",
        "\n",
        "### Question (c)\n",
        "Set up the train/val datasets and dataloders that are to be used during the training. Check out the [official API](https://pytorch.org/docs/stable/data.html) for more information about **torch.utils.data.DataLoader**.\n",
        "\n",
        "Here, you need to:\n",
        "1. Complete the code below."
      ]
    },
    {
      "cell_type": "code",
      "source": [
        "from google.colab import drive\n",
        "drive.mount('/content/drive')\n"
      ],
      "metadata": {
        "colab": {
          "base_uri": "https://localhost:8080/"
        },
        "id": "YXnAp-FCL8Za",
        "outputId": "07dbc524-71f8-4b48-8efe-49a8f60ea4a2"
      },
      "execution_count": 6,
      "outputs": [
        {
          "output_type": "stream",
          "name": "stdout",
          "text": [
            "Mounted at /content/drive\n"
          ]
        }
      ]
    },
    {
      "cell_type": "code",
      "source": [
        "import sys\n",
        "sys.path.append('/content/drive/MyDrive/ECE661_HW2/tools')"
      ],
      "metadata": {
        "id": "dVy6U0sXMOnb"
      },
      "execution_count": 8,
      "outputs": []
    },
    {
      "cell_type": "code",
      "execution_count": 26,
      "metadata": {
        "id": "C6pN-m5ZCaoo",
        "colab": {
          "base_uri": "https://localhost:8080/"
        },
        "outputId": "39f12ff1-9f6c-4f8e-81c1-ecbc85f67a10"
      },
      "outputs": [
        {
          "output_type": "stream",
          "name": "stdout",
          "text": [
            "Using downloaded and verified file: ./data/cifar10_trainval_F22.zip\n",
            "Extracting ./data/cifar10_trainval_F22.zip to ./data\n",
            "Files already downloaded and verified\n",
            "Using downloaded and verified file: ./data/cifar10_trainval_F22.zip\n",
            "Extracting ./data/cifar10_trainval_F22.zip to ./data\n",
            "Files already downloaded and verified\n"
          ]
        }
      ],
      "source": [
        "# do NOT change these\n",
        "from tools.dataset import CIFAR10\n",
        "from torch.utils.data import DataLoader\n",
        "\n",
        "# a few arguments, do NOT change these\n",
        "DATA_ROOT = \"./data\"\n",
        "TRAIN_BATCH_SIZE = 128\n",
        "VAL_BATCH_SIZE = 100\n",
        "\n",
        "#############################################\n",
        "# your code here\n",
        "# construct dataset\n",
        "train_set = CIFAR10(\n",
        "    root=DATA_ROOT,\n",
        "    mode='train',\n",
        "    download=True,\n",
        "    transform=transform_train    # your code\n",
        ")\n",
        "val_set = CIFAR10(\n",
        "    root=DATA_ROOT,\n",
        "    mode='val',\n",
        "    download=True,\n",
        "    transform=transform_val    # your code\n",
        ")\n",
        "\n",
        "# construct dataloader\n",
        "train_loader = DataLoader(\n",
        "    train_set,\n",
        "    batch_size=TRAIN_BATCH_SIZE,  # your code\n",
        "    shuffle=torch.triu_indices,     # your code\n",
        "    num_workers=4\n",
        ")\n",
        "val_loader = DataLoader(\n",
        "    val_set,\n",
        "    batch_size=VAL_BATCH_SIZE,  # your code\n",
        "    shuffle=True,     # your code\n",
        "    num_workers=4\n",
        ")\n",
        "#############################################"
      ]
    },
    {
      "cell_type": "markdown",
      "metadata": {
        "id": "Z9YjgRKOCaoo"
      },
      "source": [
        "## Step 3: Instantiate your SimpleNN model and deploy it to GPU devices.\n",
        "### Question (d)\n",
        "You may want to deploy your model to GPU device for efficient training. Please assign your model to GPU if possible. If you are training on a machine without GPUs, please deploy your model to CPUs.\n",
        "\n",
        "Here, you need to:\n",
        "1. Complete the code below.\n",
        "2. **In the PDF report**, briefly describe how you verify that your model is indeed deployed on GPU. (Hint: check $\\texttt{nvidia-smi}$.)"
      ]
    },
    {
      "cell_type": "code",
      "source": [
        "!nvidia-smi"
      ],
      "metadata": {
        "colab": {
          "base_uri": "https://localhost:8080/"
        },
        "id": "GAde6-UQhgQG",
        "outputId": "3678f303-3ec4-46ec-ce8d-de332f44784c"
      },
      "execution_count": 10,
      "outputs": [
        {
          "output_type": "stream",
          "name": "stdout",
          "text": [
            "Tue Oct  3 21:53:06 2023       \n",
            "+-----------------------------------------------------------------------------+\n",
            "| NVIDIA-SMI 525.105.17   Driver Version: 525.105.17   CUDA Version: 12.0     |\n",
            "|-------------------------------+----------------------+----------------------+\n",
            "| GPU  Name        Persistence-M| Bus-Id        Disp.A | Volatile Uncorr. ECC |\n",
            "| Fan  Temp  Perf  Pwr:Usage/Cap|         Memory-Usage | GPU-Util  Compute M. |\n",
            "|                               |                      |               MIG M. |\n",
            "|===============================+======================+======================|\n",
            "|   0  Tesla T4            Off  | 00000000:00:04.0 Off |                    0 |\n",
            "| N/A   39C    P8    10W /  70W |      0MiB / 15360MiB |      0%      Default |\n",
            "|                               |                      |                  N/A |\n",
            "+-------------------------------+----------------------+----------------------+\n",
            "                                                                               \n",
            "+-----------------------------------------------------------------------------+\n",
            "| Processes:                                                                  |\n",
            "|  GPU   GI   CI        PID   Type   Process name                  GPU Memory |\n",
            "|        ID   ID                                                   Usage      |\n",
            "|=============================================================================|\n",
            "|  No running processes found                                                 |\n",
            "+-----------------------------------------------------------------------------+\n"
          ]
        }
      ]
    },
    {
      "cell_type": "code",
      "execution_count": 27,
      "metadata": {
        "id": "RBV3lPB3Caop",
        "colab": {
          "base_uri": "https://localhost:8080/"
        },
        "outputId": "57fbf703-36d4-42d4-db8e-c68ebbc09d67"
      },
      "outputs": [
        {
          "output_type": "stream",
          "name": "stdout",
          "text": [
            "Using GPU\n",
            "SimpleNN(\n",
            "  (conv1): Conv2d(3, 8, kernel_size=(5, 5), stride=(1, 1))\n",
            "  (conv2): Conv2d(8, 16, kernel_size=(3, 3), stride=(1, 1))\n",
            "  (fc1): Linear(in_features=576, out_features=120, bias=True)\n",
            "  (fc2): Linear(in_features=120, out_features=84, bias=True)\n",
            "  (fc3): Linear(in_features=84, out_features=10, bias=True)\n",
            ")\n"
          ]
        }
      ],
      "source": [
        "# specify the device for computation\n",
        "#############################################\n",
        "# your code here\n",
        "if torch.cuda.is_available():\n",
        "    device = torch.device(\"cuda\")\n",
        "    print(\"Using GPU\")\n",
        "else:\n",
        "    device = torch.device(\"cpu\")\n",
        "    print(\"Using CPU\")\n",
        "\n",
        "model = SimpleNN()\n",
        "model.to(device)\n",
        "print(model)\n",
        "\n",
        "\n",
        "#############################################"
      ]
    },
    {
      "cell_type": "markdown",
      "metadata": {
        "id": "4L8w7z2XCaoq"
      },
      "source": [
        "## Step 4: Set up the loss function and optimizer\n",
        "Loss function/objective function is used to provide \"feedback\" for the neural networks. Typically, we use multi-class cross-entropy as the loss function for classification models. As for the optimizer, we will use SGD with momentum."
      ]
    },
    {
      "cell_type": "markdown",
      "metadata": {
        "id": "A6dVSrjNCaoq"
      },
      "source": [
        "### Question (e)\n",
        "Here, you need to:\n",
        "1. Set up the cross-entropy loss as the criterion. (Hint: there are implemented functions in **torch.nn**)\n",
        "2. Specify a SGD optimizer with momentum. (Hint: there are implemented functions in **torch.optim**)"
      ]
    },
    {
      "cell_type": "code",
      "execution_count": 28,
      "metadata": {
        "id": "DGs_6mgvCaoq"
      },
      "outputs": [],
      "source": [
        "import torch.nn as nn\n",
        "import torch.optim as optim\n",
        "\n",
        "# hyperparameters, do NOT change right now\n",
        "# initial learning rate\n",
        "INITIAL_LR = 0.01\n",
        "\n",
        "# momentum for optimizer\n",
        "MOMENTUM = 0.9\n",
        "\n",
        "# L2 regularization strength\n",
        "REG = 1e-4\n",
        "\n",
        "#############################################\n",
        "# your code here\n",
        "# create loss function\n",
        "criterion =nn.CrossEntropyLoss()\n",
        "\n",
        "# Add optimizer\n",
        "optimizer =optim.SGD(model.parameters(), lr=INITIAL_LR, momentum=MOMENTUM, weight_decay=REG)\n",
        "#############################################"
      ]
    },
    {
      "cell_type": "markdown",
      "metadata": {
        "id": "vi_pZaZNCaor"
      },
      "source": [
        "## Step 5: Start the training process.\n",
        "\n",
        "### Question (f)/(g)\n",
        "Congratulations! You have completed all of the previous steps and it is time to train our neural network.\n",
        "\n",
        "Here you need to:\n",
        "1. Complete the training codes.\n",
        "2. Actually perform the training.\n",
        "\n",
        "Hint: Training a neural network usually repeats the following 4 steps:\n",
        "\n",
        "**i) Get a batch of data from the dataloader and copy it to your device (GPU).**\n",
        "\n",
        "**ii) Do a forward pass to get the outputs from the neural network and compute the loss. Be careful about your inputs to the loss function. Are the inputs required to be the logits or softmax probabilities?)**\n",
        "\n",
        "**iii) Do a backward pass (back-propagation) to compute gradients of all weights with respect to the loss.**\n",
        "\n",
        "**iiii) Update the model weights with the optimizer.**\n",
        "\n",
        "You will also need to compute the accuracy of training/validation samples to track your model's performance over each epoch (the accuracy should be increasing as you train for more and more epochs).\n"
      ]
    },
    {
      "cell_type": "code",
      "execution_count": 29,
      "metadata": {
        "id": "5c2FxB-kCaor",
        "colab": {
          "base_uri": "https://localhost:8080/"
        },
        "outputId": "dfcc36f9-04b1-491f-c123-de31ab216de4"
      },
      "outputs": [
        {
          "output_type": "stream",
          "name": "stdout",
          "text": [
            "==> Training starts!\n",
            "==================================================\n",
            "Epoch 0:\n",
            "Training loss: 1.9631, Training accuracy: 0.2812\n",
            "Validation loss: 1.5845, Validation accuracy: 0.4196\n",
            "\n",
            "Epoch 1:\n",
            "Training loss: 1.4513, Training accuracy: 0.4731\n",
            "Validation loss: 1.3587, Validation accuracy: 0.5146\n",
            "\n",
            "Epoch 2:\n",
            "Training loss: 1.2393, Training accuracy: 0.5565\n",
            "Validation loss: 1.2008, Validation accuracy: 0.5746\n",
            "\n",
            "Epoch 3:\n",
            "Training loss: 1.1140, Training accuracy: 0.6026\n",
            "Validation loss: 1.1132, Validation accuracy: 0.6020\n",
            "\n",
            "Epoch 4:\n",
            "Training loss: 1.0240, Training accuracy: 0.6387\n",
            "Validation loss: 1.0805, Validation accuracy: 0.6224\n",
            "\n",
            "Epoch 5:\n",
            "Training loss: 0.9445, Training accuracy: 0.6684\n",
            "Validation loss: 1.0268, Validation accuracy: 0.6418\n",
            "\n",
            "Epoch 6:\n",
            "Training loss: 0.8842, Training accuracy: 0.6882\n",
            "Validation loss: 0.9975, Validation accuracy: 0.6546\n",
            "\n",
            "Epoch 7:\n",
            "Training loss: 0.8281, Training accuracy: 0.7066\n",
            "Validation loss: 1.0208, Validation accuracy: 0.6512\n",
            "\n",
            "Epoch 8:\n",
            "Training loss: 0.7708, Training accuracy: 0.7271\n",
            "Validation loss: 1.0522, Validation accuracy: 0.6458\n",
            "\n",
            "Epoch 9:\n",
            "Training loss: 0.7325, Training accuracy: 0.7397\n",
            "Validation loss: 1.0058, Validation accuracy: 0.6618\n",
            "\n",
            "Epoch 10:\n",
            "Training loss: 0.6883, Training accuracy: 0.7591\n",
            "Validation loss: 1.0150, Validation accuracy: 0.6648\n",
            "\n",
            "Epoch 11:\n",
            "Training loss: 0.6559, Training accuracy: 0.7667\n",
            "Validation loss: 1.0570, Validation accuracy: 0.6540\n",
            "\n",
            "Epoch 12:\n",
            "Training loss: 0.6095, Training accuracy: 0.7844\n",
            "Validation loss: 1.0672, Validation accuracy: 0.6592\n",
            "\n",
            "Epoch 13:\n",
            "Training loss: 0.5776, Training accuracy: 0.7934\n",
            "Validation loss: 1.0717, Validation accuracy: 0.6754\n",
            "\n",
            "Epoch 14:\n",
            "Training loss: 0.5417, Training accuracy: 0.8069\n",
            "Validation loss: 1.1301, Validation accuracy: 0.6532\n",
            "\n",
            "Epoch 15:\n",
            "Training loss: 0.5092, Training accuracy: 0.8183\n",
            "Validation loss: 1.1330, Validation accuracy: 0.6624\n",
            "\n",
            "Epoch 16:\n",
            "Training loss: 0.4832, Training accuracy: 0.8270\n",
            "Validation loss: 1.1534, Validation accuracy: 0.6686\n",
            "\n",
            "Epoch 17:\n",
            "Training loss: 0.4620, Training accuracy: 0.8346\n",
            "Validation loss: 1.2455, Validation accuracy: 0.6570\n",
            "\n",
            "Epoch 18:\n",
            "Training loss: 0.4327, Training accuracy: 0.8453\n",
            "Validation loss: 1.2322, Validation accuracy: 0.6532\n",
            "\n",
            "Epoch 19:\n",
            "Training loss: 0.4041, Training accuracy: 0.8576\n",
            "Validation loss: 1.3651, Validation accuracy: 0.6564\n",
            "\n",
            "Epoch 20:\n",
            "Training loss: 0.3927, Training accuracy: 0.8590\n",
            "Validation loss: 1.4160, Validation accuracy: 0.6502\n",
            "\n",
            "Epoch 21:\n",
            "Training loss: 0.3656, Training accuracy: 0.8666\n",
            "Validation loss: 1.4330, Validation accuracy: 0.6516\n",
            "\n",
            "Epoch 22:\n",
            "Training loss: 0.3533, Training accuracy: 0.8720\n",
            "Validation loss: 1.4577, Validation accuracy: 0.6502\n",
            "\n",
            "Epoch 23:\n",
            "Training loss: 0.3383, Training accuracy: 0.8790\n",
            "Validation loss: 1.5539, Validation accuracy: 0.6466\n",
            "\n",
            "Epoch 24:\n",
            "Training loss: 0.3359, Training accuracy: 0.8769\n",
            "Validation loss: 1.5710, Validation accuracy: 0.6448\n",
            "\n",
            "Epoch 25:\n",
            "Training loss: 0.3043, Training accuracy: 0.8906\n",
            "Validation loss: 1.6581, Validation accuracy: 0.6496\n",
            "\n",
            "Epoch 26:\n",
            "Training loss: 0.2929, Training accuracy: 0.8952\n",
            "Validation loss: 1.7341, Validation accuracy: 0.6474\n",
            "\n",
            "Epoch 27:\n",
            "Training loss: 0.2812, Training accuracy: 0.9000\n",
            "Validation loss: 1.7097, Validation accuracy: 0.6434\n",
            "\n",
            "Epoch 28:\n",
            "Training loss: 0.2768, Training accuracy: 0.9004\n",
            "Validation loss: 1.7948, Validation accuracy: 0.6492\n",
            "\n",
            "Epoch 29:\n",
            "Training loss: 0.2742, Training accuracy: 0.9006\n",
            "Validation loss: 1.8915, Validation accuracy: 0.6342\n",
            "\n",
            "==================================================\n",
            "==> Optimization finished! Best validation accuracy: 0.6754\n"
          ]
        }
      ],
      "source": [
        "# some hyperparameters\n",
        "# total number of training epochs\n",
        "EPOCHS = 30\n",
        "\n",
        "# the folder where the trained model is saved\n",
        "CHECKPOINT_FOLDER = \"./saved_model\"\n",
        "\n",
        "# start the training/validation process\n",
        "# the process should take about 5 minutes on a GTX 1070-Ti\n",
        "# if the code is written efficiently.\n",
        "best_val_acc = 0\n",
        "current_learning_rate = INITIAL_LR\n",
        "train_accuracies = []\n",
        "val_accuracies = []\n",
        "\n",
        "print(\"==> Training starts!\")\n",
        "print(\"=\"*50)\n",
        "for i in range(0, EPOCHS):\n",
        "    #######################\n",
        "    # your code here\n",
        "    # switch to train mode\n",
        "    model.train()\n",
        "\n",
        "\n",
        "    #######################\n",
        "\n",
        "    print(\"Epoch %d:\" %i)\n",
        "    # this help you compute the training accuracy\n",
        "    total_examples = 0\n",
        "    correct_examples = 0\n",
        "\n",
        "    train_loss = 0\n",
        "    val_loss = 0# track training loss if you want\n",
        "\n",
        "    # Train the model for 1 epoch.\n",
        "    for batch_idx, (inputs, targets) in enumerate(train_loader):\n",
        "        ####################################\n",
        "        # your code here\n",
        "        # copy inputs to device\n",
        "         inputs, targets = inputs.to(device), targets.to(device)\n",
        "\n",
        "         # compute the output and loss\n",
        "         output= model(inputs)\n",
        "         loss= criterion(output,targets)\n",
        "\n",
        "         # zero the gradient\n",
        "\n",
        "         optimizer.zero_grad()\n",
        "         # backpropagation\n",
        "         loss.backward()\n",
        "\n",
        "\n",
        "        # apply gradient and update the weights\n",
        "         optimizer.step()\n",
        "\n",
        "\n",
        "        # count the number of correctly predicted samples in the current batch\n",
        "         _, predicted = output.max(1)\n",
        "         total_examples += targets.size(0)\n",
        "         correct_examples += predicted.eq(targets).sum().item()\n",
        "         train_loss += loss.item()\n",
        "\n",
        "        ####################################\n",
        "\n",
        "    avg_loss = train_loss / len(train_loader)\n",
        "    avg_acc = correct_examples / total_examples\n",
        "    train_accuracies.append(avg_acc)\n",
        "    print(\"Training loss: %.4f, Training accuracy: %.4f\" %(avg_loss, avg_acc))\n",
        "\n",
        "    # Validate on the validation dataset\n",
        "    #######################\n",
        "    # your code here\n",
        "    # switch to eval mode\n",
        "    model.eval()\n",
        "\n",
        "\n",
        "    #######################\n",
        "\n",
        "    # this help you compute the validation accuracy\n",
        "    total_examples = 0\n",
        "    correct_examples = 0\n",
        "\n",
        "    val_loss = 0 # again, track the validation loss if you want\n",
        "\n",
        "    # disable gradient during validation, which can save GPU memory\n",
        "    with torch.no_grad():\n",
        "        for batch_idx, (inputs, targets) in enumerate(val_loader):\n",
        "            ####################################\n",
        "            # your code here\n",
        "            # copy inputs to device\n",
        "            inputs, targets =inputs.to(device), targets.to(device)\n",
        "\n",
        "\n",
        "            # compute the output and loss\n",
        "            output=model(inputs)\n",
        "            loss= criterion(output,targets)\n",
        "\n",
        "\n",
        "            # count the number of correctly predicted samples in the current batch\n",
        "            _, predicted = output.max(1)\n",
        "            total_examples += targets.size(0)\n",
        "            correct_examples += predicted.eq(targets).sum().item()\n",
        "            val_loss += loss.item()\n",
        "\n",
        "            ####################################\n",
        "\n",
        "    avg_loss = val_loss / len(val_loader)\n",
        "    avg_acc = correct_examples / total_examples\n",
        "    val_accuracies.append(avg_acc)\n",
        "    print(\"Validation loss: %.4f, Validation accuracy: %.4f\" % (avg_loss, avg_acc))\n",
        "\n",
        "    # save the model checkpoint\n",
        "    if avg_acc > best_val_acc:\n",
        "        best_val_acc = avg_acc\n",
        "        #if not os.path.exists(CHECKPOINT_FOLDER):\n",
        "        #    os.makedirs(CHECKPOINT_FOLDER)\n",
        "        #print(\"Saving ...\")\n",
        "        #state = {'state_dict': net.state_dict(),\n",
        "        #         'epoch': i,\n",
        "        #         'lr': current_learning_rate}\n",
        "        #torch.save(state, os.path.join(CHECKPOINT_FOLDER, 'simplenn.pth'))\n",
        "\n",
        "    print('')\n",
        "\n",
        "print(\"=\"*50)\n",
        "print(f\"==> Optimization finished! Best validation accuracy: {best_val_acc:.4f}\")"
      ]
    },
    {
      "cell_type": "markdown",
      "source": [
        "## Comparing the Training and Validation Accuracies"
      ],
      "metadata": {
        "id": "zmKOFk2W21oa"
      }
    },
    {
      "cell_type": "code",
      "source": [
        "import matplotlib.pyplot as plt\n",
        "import numpy as np"
      ],
      "metadata": {
        "id": "D_uHme1Xy13b"
      },
      "execution_count": 32,
      "outputs": []
    },
    {
      "cell_type": "code",
      "source": [
        "epochs = np.arange(1, EPOCHS + 1)\n",
        "\n",
        "\n",
        "plt.figure(figsize=(8, 6))\n",
        "plt.plot(epochs, train_accuracies, label='Training Accuracy')\n",
        "plt.plot(epochs, val_accuracies, label='Validation Accuracy')\n",
        "plt.xlabel('Epochs')\n",
        "plt.ylabel('Accuracy')\n",
        "plt.title('Training and Validation Accuracies')\n",
        "plt.legend()\n",
        "plt.grid(True)\n",
        "plt.show()"
      ],
      "metadata": {
        "colab": {
          "base_uri": "https://localhost:8080/",
          "height": 564
        },
        "id": "5Tbl6Jybyzm_",
        "outputId": "fd2706fd-0301-4bcd-ab04-c692ec75e34e"
      },
      "execution_count": 36,
      "outputs": [
        {
          "output_type": "display_data",
          "data": {
            "text/plain": [
              "<Figure size 800x600 with 1 Axes>"
            ],
            "image/png": "[encoded data removed]"
          },
          "metadata": {}
        }
      ]
    },
    {
      "cell_type": "markdown",
      "source": [
        "## Calculating the initial loss"
      ],
      "metadata": {
        "id": "e-rU-bGw3BQZ"
      }
    },
    {
      "cell_type": "code",
      "source": [
        "model1 = SimpleNN().to(device)\n",
        "criterion = nn.CrossEntropyLoss()\n",
        "optimizer =optim.SGD(model1.parameters(), lr=INITIAL_LR, momentum=MOMENTUM, weight_decay=REG)\n",
        "model1.train()\n",
        "\n",
        "batch_idx, (inputs, targets) = next(enumerate(train_loader))\n",
        "inputs, targets = inputs.to(device), targets.to(device)\n",
        "\n",
        "output = model1(inputs)\n",
        "loss = criterion(output, targets)\n",
        "\n",
        "print(f\"Initial Loss for First Batch: {loss.item():.4f}\")"
      ],
      "metadata": {
        "colab": {
          "base_uri": "https://localhost:8080/"
        },
        "id": "CFP6aX7606u9",
        "outputId": "3f6484c5-1ddc-4e54-d483-888e00398b84"
      },
      "execution_count": 43,
      "outputs": [
        {
          "output_type": "stream",
          "name": "stdout",
          "text": [
            "Initial Loss for First Batch: 2.2998\n"
          ]
        }
      ]
    },
    {
      "cell_type": "markdown",
      "metadata": {
        "id": "ulyR4VGjCaos"
      },
      "source": [
        "# Bonus: with learning rate decay\n",
        "\n",
        "The following code can help you adjust the learning rate during training. You need to figure out how to incorporate this code into your training loop.\n",
        "```python\n",
        "    if i % DECAY_EPOCHS == 0 and i != 0:\n",
        "        current_learning_rate = current_learning_rate * DECAY\n",
        "        for param_group in optimizer.param_groups:\n",
        "            param_group['lr'] = current_learning_rate\n",
        "        print(\"Current learning rate has decayed to %f\" %current_learning_rate)\n",
        "```"
      ]
    },
    {
      "cell_type": "code",
      "execution_count": null,
      "metadata": {
        "id": "gjSEvFsGCaot"
      },
      "outputs": [],
      "source": []
    }
  ],
  "metadata": {
    "kernelspec": {
      "display_name": "Python 3",
      "name": "python3"
    },
    "language_info": {
      "codemirror_mode": {
        "name": "ipython",
        "version": 3
      },
      "file_extension": ".py",
      "mimetype": "text/x-python",
      "name": "python",
      "nbconvert_exporter": "python",
      "pygments_lexer": "ipython3",
      "version": "3.8.12"
    },
    "colab": {
      "provenance": [],
      "gpuType": "T4"
    },
    "accelerator": "GPU"
  },
  "nbformat": 4,
  "nbformat_minor": 0
}